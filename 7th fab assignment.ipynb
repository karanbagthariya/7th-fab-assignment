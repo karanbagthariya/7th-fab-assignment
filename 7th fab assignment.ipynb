{
 "cells": [
  {
   "cell_type": "markdown",
   "id": "d4edaf02-0b91-4bd2-9ca8-00b200e73cc6",
   "metadata": {},
   "source": [
    "Q1. You are writing code for a company. The requirement of the company is that you create a python\n",
    "function that will check whether the password entered by the user is correct or not. The function should\n",
    "take the password as input and return the string “Valid Password” if the entered password follows the\n",
    "below-given password guidelines else it should return “Invalid Password”.\n",
    "Note: 1. The Password should contain at least two uppercase letters and at least two lowercase letters.\n",
    "2. The Password should contain at least a number and three special characters.\n",
    "3. The length of the password should be 10 characters long."
   ]
  },
  {
   "cell_type": "code",
   "execution_count": 8,
   "id": "5d511faa-f201-497f-92e8-93b50288af67",
   "metadata": {},
   "outputs": [
    {
     "name": "stdin",
     "output_type": "stream",
     "text": [
      "password zdfv\n"
     ]
    },
    {
     "name": "stdout",
     "output_type": "stream",
     "text": [
      "invalid password\n"
     ]
    }
   ],
   "source": [
    "import re\n",
    "password=list(input('password'))\n",
    "guidelines=0\n",
    "while True:\n",
    "    if (len(password)<=9):\n",
    "        guidelines=-1\n",
    "        break\n",
    "    elif not re.search(\"[a_z]\",password):\n",
    "        guidelines=-1\n",
    "        break\n",
    "    elif not re.search(\"[A_Z]\",password):\n",
    "        guidelines=-1\n",
    "        break\n",
    "    elif not re.search(\"[_@$]\",password):\n",
    "        guidelines=-1\n",
    "        break\n",
    "    elif not re.search(\"[0-9]\",password):\n",
    "        guidelines=-1\n",
    "        break\n",
    "    else:\n",
    "        guidelines=0\n",
    "        break\n",
    "    print('valid password')\n",
    "if guidelines==-1:\n",
    "    print('invalid password')\n",
    "        \n",
    "    "
   ]
  },
  {
   "cell_type": "markdown",
   "id": "52bdaf61-974e-4bd8-8143-6f499a15d3e3",
   "metadata": {},
   "source": [
    "Q2. Solve the below-given questions using at least one of the following:\n",
    "1. Lambda functioJ\n",
    "2. Filter functioJ\n",
    "3. Zap functioJ\n",
    "4. List ComprehensioI"
   ]
  },
  {
   "cell_type": "code",
   "execution_count": 18,
   "id": "486004c1-d007-49c5-b349-8275c9ed3bee",
   "metadata": {},
   "outputs": [
    {
     "name": "stdout",
     "output_type": "stream",
     "text": [
      "True\n",
      "False\n"
     ]
    }
   ],
   "source": [
    "#1.Check if the string starts with a particular letterY\n",
    "k = \"physics wala\"\n",
    " \n",
    "print(k.startswith(\"physics\"))\n",
    "print(k.startswith(\"Hello\"))"
   ]
  },
  {
   "cell_type": "code",
   "execution_count": 23,
   "id": "1670cdb8-2588-45b4-9ec8-dbd251d02adc",
   "metadata": {},
   "outputs": [
    {
     "name": "stdout",
     "output_type": "stream",
     "text": [
      "True\n"
     ]
    }
   ],
   "source": [
    "#2.Check if the string is numeric.\n",
    "K=\"100\"\n",
    "print(K.isnumeric())"
   ]
  },
  {
   "cell_type": "code",
   "execution_count": 30,
   "id": "93a95bcc-419e-480a-bd21-938153257e56",
   "metadata": {},
   "outputs": [
    {
     "name": "stdout",
     "output_type": "stream",
     "text": [
      "[('orange', 80), ('mango', 99), ('grapes', 1000)]\n"
     ]
    }
   ],
   "source": [
    "#3.Sort a list of tuples having fruit names and their quantity. [(\"mango\",99),(\"orange\",80), (\"grapes\", 1000).\n",
    "k=[(\"mango\",99),(\"orange\",80), (\"grapes\", 1000)]\n",
    "k.sort(key = lambda x: x[1])\n",
    "print(k)"
   ]
  },
  {
   "cell_type": "code",
   "execution_count": 40,
   "id": "010a7182-ffbb-4e5b-9cd8-00c053749260",
   "metadata": {},
   "outputs": [
    {
     "data": {
      "text/plain": [
       "[1, 4, 9, 16, 25, 36, 49, 64, 81]"
      ]
     },
     "execution_count": 40,
     "metadata": {},
     "output_type": "execute_result"
    }
   ],
   "source": [
    "#Find the squares of numbers from 1 to 10.\n",
    "k=list(range(1,10))\n",
    "list(map(lambda x:x**2,k))"
   ]
  },
  {
   "cell_type": "code",
   "execution_count": 41,
   "id": "1259a13e-f40d-4459-ab48-77977719f6d0",
   "metadata": {},
   "outputs": [
    {
     "data": {
      "text/plain": [
       "[1, 8, 27, 64, 125, 216, 343, 512, 729]"
      ]
     },
     "execution_count": 41,
     "metadata": {},
     "output_type": "execute_result"
    }
   ],
   "source": [
    "#Find the cube root of numbers from 1 to 10.\n",
    "k=list(range(1,10))\n",
    "list(map(lambda x:x**3,k))"
   ]
  },
  {
   "cell_type": "code",
   "execution_count": 2,
   "id": "cbae54b8-9e29-466c-9269-e73d2d589ca7",
   "metadata": {},
   "outputs": [
    {
     "data": {
      "text/plain": [
       "[1, 3, 5, 7, 9]"
      ]
     },
     "execution_count": 2,
     "metadata": {},
     "output_type": "execute_result"
    }
   ],
   "source": [
    "#Filter odd numbers from the given list.[1,2,3,4,5,6,7,8,9,10].\n",
    "k1=[1,2,3,4,5,6,7,8,9,10]\n",
    "list(filter(lambda x:x%2!=0 , k1))"
   ]
  },
  {
   "cell_type": "code",
   "execution_count": 7,
   "id": "09e66fbe-227f-4bc1-8401-215e370847bb",
   "metadata": {},
   "outputs": [
    {
     "data": {
      "text/plain": [
       "False"
      ]
     },
     "execution_count": 7,
     "metadata": {},
     "output_type": "execute_result"
    }
   ],
   "source": [
    "#Check if a given number is even.\n",
    "def even(n):\n",
    "    return(n % 2==0)\n",
    "even(99)"
   ]
  },
  {
   "cell_type": "code",
   "execution_count": 10,
   "id": "ae125f91-9d19-4992-bcba-1240a2696fc4",
   "metadata": {},
   "outputs": [
    {
     "name": "stdout",
     "output_type": "stream",
     "text": [
      "The original list is : [1, 2, 3, 4, 5, 6, -1, -2, -3, -4, -5, 0]\n",
      "Result after performing sort operation : [1, 2, 3, 4, 5, 6, 0, -5, -4, -3, -2, -1]\n"
     ]
    }
   ],
   "source": [
    "# initialize list\n",
    "test_list = [1,2,3,4,5,6,-1,-2,-3,-4,-5,0]\n",
    " \n",
    "# printing original list\n",
    "print(\"The original list is : \" + str(test_list))\n",
    " \n",
    "# Sort while keeping Positive elements before negatives\n",
    "# using sorted() + lambda\n",
    "res = sorted(test_list, key = lambda i: 0 if i == 0 else -1 / i)\n",
    " \n",
    "# printing result\n",
    "print(\"Result after performing sort operation : \" + str(res))"
   ]
  },
  {
   "cell_type": "code",
   "execution_count": 6,
   "id": "e79fc22a-408c-45bd-8009-c482505e2915",
   "metadata": {},
   "outputs": [
    {
     "name": "stdout",
     "output_type": "stream",
     "text": [
      "[-5, -4, -3, -2, -1, 0, 1, 2, 3, 4, 5, 6]\n"
     ]
    }
   ],
   "source": [
    "kar=[1,2,3,4,5,6,-1,-2,-3,-4,-5,0]\n",
    "kar.sort()\n",
    "print(kar)"
   ]
  },
  {
   "cell_type": "code",
   "execution_count": 7,
   "id": "903b9ff2-c067-4f90-bbf4-b6623a0d393e",
   "metadata": {},
   "outputs": [
    {
     "name": "stdout",
     "output_type": "stream",
     "text": [
      "[-5, -4, -3, -2, -1, 0, 1, 2, 3, 4, 5, 6]\n",
      "[-1, -2, -3, -4, -5]\n",
      "[1, 2, 3, 4, 5, 6, 0]\n"
     ]
    }
   ],
   "source": [
    "#Sort a list of integers into positive and negative integers lists.\n",
    "kar=[1,2,3,4,5,6,-1,-2,-3,-4,-5,0]\n",
    "kar.sort()\n",
    "print(kar)\n",
    "kar=[1,2,3,4,5,6,-1,-2,-3,-4,-5,0]\n",
    "kar1=[]\n",
    "kar2=[]\n",
    "for i in kar:\n",
    "    if i < 0:\n",
    "        kar1.append(i)\n",
    "print(kar1)\n",
    "for i in kar:\n",
    "    if i >= 0:\n",
    "        kar2.append(i)\n",
    "print(kar2)"
   ]
  },
  {
   "cell_type": "code",
   "execution_count": null,
   "id": "e609f1f7-0fa2-4036-ab41-8fd09ff6e30a",
   "metadata": {},
   "outputs": [],
   "source": []
  }
 ],
 "metadata": {
  "kernelspec": {
   "display_name": "Python 3 (ipykernel)",
   "language": "python",
   "name": "python3"
  },
  "language_info": {
   "codemirror_mode": {
    "name": "ipython",
    "version": 3
   },
   "file_extension": ".py",
   "mimetype": "text/x-python",
   "name": "python",
   "nbconvert_exporter": "python",
   "pygments_lexer": "ipython3",
   "version": "3.10.8"
  }
 },
 "nbformat": 4,
 "nbformat_minor": 5
}
